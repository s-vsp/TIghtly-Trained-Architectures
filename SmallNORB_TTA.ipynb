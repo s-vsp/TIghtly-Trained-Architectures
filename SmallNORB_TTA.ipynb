{
  "cells": [
    {
      "cell_type": "markdown",
      "metadata": {
        "id": "HK74_AGm9AQy"
      },
      "source": [
        "# SmallNORB"
      ]
    },
    {
      "cell_type": "code",
      "execution_count": null,
      "metadata": {
        "id": "ELoZh7xwXk3H"
      },
      "outputs": [],
      "source": [
        "!pip install datasets\n",
        "!pip install transformers"
      ]
    },
    {
      "cell_type": "code",
      "execution_count": 1,
      "metadata": {
        "id": "saDmHjP_XzSP"
      },
      "outputs": [],
      "source": [
        "import numpy as np\n",
        "import torch\n",
        "import torch.nn as nn\n",
        "import torch.nn.init as init\n",
        "import torchvision as tv\n",
        "import matplotlib.pyplot as plt\n",
        "import seaborn as sns\n",
        "\n",
        "from tqdm import tqdm\n",
        "from torchvision import transforms\n",
        "from torchvision.transforms import v2\n",
        "from datasets import load_dataset\n",
        "\n",
        "sns.set_theme()"
      ]
    },
    {
      "cell_type": "code",
      "execution_count": 2,
      "metadata": {
        "colab": {
          "base_uri": "https://localhost:8080/"
        },
        "id": "SRMFEAwCgwMx",
        "outputId": "5bc8c697-33f6-491e-e5d8-b50e4934838e"
      },
      "outputs": [
        {
          "data": {
            "text/plain": [
              "device(type='cuda')"
            ]
          },
          "execution_count": 2,
          "metadata": {},
          "output_type": "execute_result"
        }
      ],
      "source": [
        "device = torch.device(\"cuda\" if torch.cuda.is_available() else \"cpu\")\n",
        "device"
      ]
    },
    {
      "cell_type": "code",
      "execution_count": 3,
      "metadata": {
        "id": "A7YonrHpYBQU"
      },
      "outputs": [],
      "source": [
        "smallnorb = load_dataset(\"Ramos-Ramos/smallnorb\")"
      ]
    },
    {
      "cell_type": "code",
      "execution_count": 4,
      "metadata": {
        "id": "tIX0_kZKYD_d"
      },
      "outputs": [],
      "source": [
        "class SmallNORBDataset(torch.utils.data.Dataset):\n",
        "  def __init__(self, hf_dataset, subset=\"train\", transform=None):\n",
        "    self.hf_dataset = hf_dataset\n",
        "    self.subset = subset\n",
        "    self.transform = transform\n",
        "\n",
        "  def __len__(self):\n",
        "    return len(self.hf_dataset[self.subset])\n",
        "\n",
        "  def __getitem__(self, idx):\n",
        "    sample = self.hf_dataset[self.subset][idx]\n",
        "    image = sample[\"image_lt\"]\n",
        "    label = sample[\"category\"]\n",
        "\n",
        "    if self.transform:\n",
        "      image = self.transform(image)\n",
        "\n",
        "    return image, label"
      ]
    },
    {
      "cell_type": "markdown",
      "metadata": {
        "id": "eCh5SuzjdNWn"
      },
      "source": [
        "## VGG16"
      ]
    },
    {
      "cell_type": "code",
      "execution_count": 5,
      "metadata": {
        "id": "_rcaE-4if8S_"
      },
      "outputs": [],
      "source": [
        "transforms_train = transforms.Compose([\n",
        "    transforms.RandomResizedCrop(size=(224,224), scale=(0.8, 1.0)),\n",
        "    transforms.RandomRotation(degrees=30),\n",
        "    transforms.RandomHorizontalFlip(),\n",
        "    transforms.CenterCrop(size=64),\n",
        "    transforms.ToTensor(),\n",
        "    transforms.Normalize([0.485], [0.229])\n",
        "])\n",
        "\n",
        "transforms_val = transforms.Compose([\n",
        "    transforms.Resize(size=(224,224)),\n",
        "    transforms.ToTensor(),\n",
        "    transforms.Normalize([0.485], [0.229])\n",
        "])\n",
        "\n",
        "transforms_test = transforms.Compose([\n",
        "    transforms.Resize(size=(224,224)),\n",
        "    transforms.ToTensor(),\n",
        "    transforms.Normalize([0.485], [0.229])\n",
        "])"
      ]
    },
    {
      "cell_type": "code",
      "execution_count": 6,
      "metadata": {
        "id": "6Yy-i_qWeiSk"
      },
      "outputs": [],
      "source": [
        "train_ds = SmallNORBDataset(smallnorb, \"train\", transform=transforms_train)\n",
        "val_ds = SmallNORBDataset(smallnorb, \"train\", transform=transforms_val)\n",
        "\n",
        "train_size = int(0.8 * len(train_ds))\n",
        "val_size = len(train_ds) - train_size\n",
        "train_ds, val_ds = torch.utils.data.random_split(train_ds, [train_size, val_size])\n",
        "\n",
        "val_ds.dataset.transform = transforms_val\n",
        "\n",
        "test_ds = SmallNORBDataset(smallnorb, \"test\", transform=transforms_test)"
      ]
    },
    {
      "cell_type": "code",
      "execution_count": 7,
      "metadata": {
        "id": "el1AB7KlgSTD"
      },
      "outputs": [],
      "source": [
        "IN_CHANNELS = 1\n",
        "N_CLASSES = 5\n",
        "\n",
        "vgg16_model = tv.models.vgg16(weights=\"IMAGENET1K_V1\")"
      ]
    },
    {
      "cell_type": "code",
      "execution_count": 8,
      "metadata": {
        "id": "Z49kALI7L3-A"
      },
      "outputs": [],
      "source": [
        "for param in vgg16_model.parameters():\n",
        "    param.requires_grad = False"
      ]
    },
    {
      "cell_type": "code",
      "execution_count": 9,
      "metadata": {
        "id": "doYJYuJcLwXD"
      },
      "outputs": [],
      "source": [
        "# 1-channel inputs\n",
        "vgg16_model.features[0] = nn.Conv2d(IN_CHANNELS, 64, kernel_size=(3,3), stride=(1,1), padding=(1,1))\n",
        "\n",
        "# Add on classifier\n",
        "n_inputs = vgg16_model.classifier[6].in_features\n",
        "vgg16_model.classifier[6] = nn.Sequential(\n",
        "    nn.Linear(n_inputs, 256), nn.ReLU(), nn.Dropout(0.6),\n",
        "    nn.Linear(256, N_CLASSES), nn.LogSoftmax(dim=1))"
      ]
    },
    {
      "cell_type": "code",
      "execution_count": 10,
      "metadata": {
        "id": "IMKcEC0CmYAA"
      },
      "outputs": [],
      "source": [
        "vgg16_model = vgg16_model.to(device)"
      ]
    },
    {
      "cell_type": "code",
      "execution_count": 11,
      "metadata": {
        "colab": {
          "base_uri": "https://localhost:8080/"
        },
        "id": "9nNEJk5zL8wt",
        "outputId": "ae59331f-e021-4442-ea69-29a010ecb6d5"
      },
      "outputs": [
        {
          "name": "stdout",
          "output_type": "stream",
          "text": [
            "135,309,509 total parameters.\n",
            "1,050,757 trainable parameters.\n"
          ]
        }
      ],
      "source": [
        "total_params = sum(p.numel() for p in vgg16_model.parameters())\n",
        "print(f\"{total_params:,} total parameters.\")\n",
        "total_trainable_params = sum(\n",
        "    p.numel() for p in vgg16_model.parameters() if p.requires_grad)\n",
        "print(f\"{total_trainable_params:,} trainable parameters.\")"
      ]
    },
    {
      "cell_type": "code",
      "execution_count": 12,
      "metadata": {
        "id": "xzcNgOXbnfI8"
      },
      "outputs": [],
      "source": [
        "BATCH_SIZE = 64\n",
        "EPOCHS = 35\n",
        "LEARNING_RATE = 1e-2\n",
        "MOMENTUM = 0.9\n",
        "WEIGHT_DECAY = 5e-4"
      ]
    },
    {
      "cell_type": "code",
      "execution_count": 13,
      "metadata": {
        "id": "LwhtckiYpIpc"
      },
      "outputs": [],
      "source": [
        "train_dl = torch.utils.data.DataLoader(dataset=train_ds, batch_size=BATCH_SIZE, shuffle=True)\n",
        "val_dl = torch.utils.data.DataLoader(dataset=val_ds, batch_size=BATCH_SIZE)\n",
        "test_dl = torch.utils.data.DataLoader(dataset=test_ds, batch_size=BATCH_SIZE)"
      ]
    },
    {
      "cell_type": "code",
      "execution_count": 14,
      "metadata": {
        "id": "Lfts5f9upscs"
      },
      "outputs": [],
      "source": [
        "criterion = nn.NLLLoss()\n",
        "optimizer = torch.optim.SGD(vgg16_model.parameters(), lr=LEARNING_RATE, momentum=MOMENTUM, weight_decay=WEIGHT_DECAY)\n",
        "lr_scheduler = torch.optim.lr_scheduler.ReduceLROnPlateau(\n",
        "    optimizer=optimizer, mode=\"max\", factor=0.1, patience=11, verbose=True\n",
        ")"
      ]
    },
    {
      "cell_type": "code",
      "execution_count": 15,
      "metadata": {
        "colab": {
          "base_uri": "https://localhost:8080/"
        },
        "id": "18Hd-yk0qBiY",
        "outputId": "a7f1357a-c019-4809-e0d6-00434f713191"
      },
      "outputs": [
        {
          "name": "stderr",
          "output_type": "stream",
          "text": [
            "Epoch 1/35: 100%|█████████████████████████████████████████████████| 304/304 [03:24<00:00,  1.49it/s]\n",
            "Validation: 100%|███████████████████████████████████████████████████| 76/76 [00:28<00:00,  2.63it/s]\n"
          ]
        },
        {
          "name": "stdout",
          "output_type": "stream",
          "text": [
            "Epoch 1/35, Train Loss: 0.6803, Validation Loss: 0.1561, Validation Accuracy: 93.87%\n"
          ]
        },
        {
          "name": "stderr",
          "output_type": "stream",
          "text": [
            "Epoch 2/35: 100%|█████████████████████████████████████████████████| 304/304 [03:24<00:00,  1.49it/s]\n",
            "Validation: 100%|███████████████████████████████████████████████████| 76/76 [00:28<00:00,  2.67it/s]\n"
          ]
        },
        {
          "name": "stdout",
          "output_type": "stream",
          "text": [
            "Epoch 2/35, Train Loss: 0.2278, Validation Loss: 0.0898, Validation Accuracy: 96.83%\n"
          ]
        },
        {
          "name": "stderr",
          "output_type": "stream",
          "text": [
            "Epoch 3/35: 100%|█████████████████████████████████████████████████| 304/304 [03:24<00:00,  1.49it/s]\n",
            "Validation: 100%|███████████████████████████████████████████████████| 76/76 [00:28<00:00,  2.67it/s]\n"
          ]
        },
        {
          "name": "stdout",
          "output_type": "stream",
          "text": [
            "Epoch 3/35, Train Loss: 0.1413, Validation Loss: 0.0450, Validation Accuracy: 98.33%\n"
          ]
        },
        {
          "name": "stderr",
          "output_type": "stream",
          "text": [
            "Epoch 4/35: 100%|█████████████████████████████████████████████████| 304/304 [03:24<00:00,  1.49it/s]\n",
            "Validation: 100%|███████████████████████████████████████████████████| 76/76 [00:28<00:00,  2.63it/s]\n"
          ]
        },
        {
          "name": "stdout",
          "output_type": "stream",
          "text": [
            "Epoch 4/35, Train Loss: 0.1172, Validation Loss: 0.0377, Validation Accuracy: 98.72%\n"
          ]
        },
        {
          "name": "stderr",
          "output_type": "stream",
          "text": [
            "Epoch 5/35: 100%|█████████████████████████████████████████████████| 304/304 [03:24<00:00,  1.49it/s]\n",
            "Validation: 100%|███████████████████████████████████████████████████| 76/76 [00:28<00:00,  2.65it/s]\n"
          ]
        },
        {
          "name": "stdout",
          "output_type": "stream",
          "text": [
            "Epoch 5/35, Train Loss: 0.1009, Validation Loss: 0.0276, Validation Accuracy: 99.01%\n"
          ]
        },
        {
          "name": "stderr",
          "output_type": "stream",
          "text": [
            "Epoch 6/35: 100%|█████████████████████████████████████████████████| 304/304 [03:24<00:00,  1.49it/s]\n",
            "Validation: 100%|███████████████████████████████████████████████████| 76/76 [00:28<00:00,  2.66it/s]\n"
          ]
        },
        {
          "name": "stdout",
          "output_type": "stream",
          "text": [
            "Epoch 6/35, Train Loss: 0.0904, Validation Loss: 0.0309, Validation Accuracy: 99.01%\n"
          ]
        },
        {
          "name": "stderr",
          "output_type": "stream",
          "text": [
            "Epoch 7/35: 100%|█████████████████████████████████████████████████| 304/304 [03:24<00:00,  1.49it/s]\n",
            "Validation: 100%|███████████████████████████████████████████████████| 76/76 [00:28<00:00,  2.66it/s]\n"
          ]
        },
        {
          "name": "stdout",
          "output_type": "stream",
          "text": [
            "Epoch 7/35, Train Loss: 0.0796, Validation Loss: 0.0217, Validation Accuracy: 99.34%\n"
          ]
        },
        {
          "name": "stderr",
          "output_type": "stream",
          "text": [
            "Epoch 8/35: 100%|█████████████████████████████████████████████████| 304/304 [03:24<00:00,  1.49it/s]\n",
            "Validation: 100%|███████████████████████████████████████████████████| 76/76 [00:28<00:00,  2.65it/s]\n"
          ]
        },
        {
          "name": "stdout",
          "output_type": "stream",
          "text": [
            "Epoch 8/35, Train Loss: 0.0753, Validation Loss: 0.0192, Validation Accuracy: 99.34%\n"
          ]
        },
        {
          "name": "stderr",
          "output_type": "stream",
          "text": [
            "Epoch 9/35: 100%|█████████████████████████████████████████████████| 304/304 [03:24<00:00,  1.49it/s]\n",
            "Validation: 100%|███████████████████████████████████████████████████| 76/76 [00:28<00:00,  2.67it/s]\n"
          ]
        },
        {
          "name": "stdout",
          "output_type": "stream",
          "text": [
            "Epoch 9/35, Train Loss: 0.0666, Validation Loss: 0.0194, Validation Accuracy: 99.34%\n"
          ]
        },
        {
          "name": "stderr",
          "output_type": "stream",
          "text": [
            "Epoch 10/35: 100%|████████████████████████████████████████████████| 304/304 [03:24<00:00,  1.49it/s]\n",
            "Validation: 100%|███████████████████████████████████████████████████| 76/76 [00:28<00:00,  2.65it/s]\n"
          ]
        },
        {
          "name": "stdout",
          "output_type": "stream",
          "text": [
            "Epoch 10/35, Train Loss: 0.0630, Validation Loss: 0.0174, Validation Accuracy: 99.59%\n"
          ]
        },
        {
          "name": "stderr",
          "output_type": "stream",
          "text": [
            "Epoch 11/35: 100%|████████████████████████████████████████████████| 304/304 [03:24<00:00,  1.49it/s]\n",
            "Validation: 100%|███████████████████████████████████████████████████| 76/76 [00:28<00:00,  2.65it/s]\n"
          ]
        },
        {
          "name": "stdout",
          "output_type": "stream",
          "text": [
            "Epoch 11/35, Train Loss: 0.0647, Validation Loss: 0.0139, Validation Accuracy: 99.55%\n"
          ]
        },
        {
          "name": "stderr",
          "output_type": "stream",
          "text": [
            "Epoch 12/35: 100%|████████████████████████████████████████████████| 304/304 [03:24<00:00,  1.49it/s]\n",
            "Validation: 100%|███████████████████████████████████████████████████| 76/76 [00:28<00:00,  2.66it/s]\n"
          ]
        },
        {
          "name": "stdout",
          "output_type": "stream",
          "text": [
            "Epoch 12/35, Train Loss: 0.0536, Validation Loss: 0.0141, Validation Accuracy: 99.65%\n"
          ]
        },
        {
          "name": "stderr",
          "output_type": "stream",
          "text": [
            "Epoch 13/35: 100%|████████████████████████████████████████████████| 304/304 [03:24<00:00,  1.49it/s]\n",
            "Validation: 100%|███████████████████████████████████████████████████| 76/76 [00:28<00:00,  2.65it/s]\n"
          ]
        },
        {
          "name": "stdout",
          "output_type": "stream",
          "text": [
            "Epoch 00013: reducing learning rate of group 0 to 1.0000e-03.\n",
            "Epoch 13/35, Train Loss: 0.0548, Validation Loss: 0.0114, Validation Accuracy: 99.67%\n"
          ]
        },
        {
          "name": "stderr",
          "output_type": "stream",
          "text": [
            "Epoch 14/35: 100%|████████████████████████████████████████████████| 304/304 [03:24<00:00,  1.49it/s]\n",
            "Validation: 100%|███████████████████████████████████████████████████| 76/76 [00:28<00:00,  2.65it/s]\n"
          ]
        },
        {
          "name": "stdout",
          "output_type": "stream",
          "text": [
            "Epoch 14/35, Train Loss: 0.0420, Validation Loss: 0.0096, Validation Accuracy: 99.75%\n"
          ]
        },
        {
          "name": "stderr",
          "output_type": "stream",
          "text": [
            "Epoch 15/35: 100%|████████████████████████████████████████████████| 304/304 [03:24<00:00,  1.49it/s]\n",
            "Validation: 100%|███████████████████████████████████████████████████| 76/76 [00:28<00:00,  2.64it/s]\n"
          ]
        },
        {
          "name": "stdout",
          "output_type": "stream",
          "text": [
            "Epoch 15/35, Train Loss: 0.0354, Validation Loss: 0.0086, Validation Accuracy: 99.77%\n"
          ]
        },
        {
          "name": "stderr",
          "output_type": "stream",
          "text": [
            "Epoch 16/35: 100%|████████████████████████████████████████████████| 304/304 [03:24<00:00,  1.48it/s]\n",
            "Validation: 100%|███████████████████████████████████████████████████| 76/76 [00:28<00:00,  2.65it/s]\n"
          ]
        },
        {
          "name": "stdout",
          "output_type": "stream",
          "text": [
            "Epoch 16/35, Train Loss: 0.0369, Validation Loss: 0.0085, Validation Accuracy: 99.84%\n"
          ]
        },
        {
          "name": "stderr",
          "output_type": "stream",
          "text": [
            "Epoch 17/35: 100%|████████████████████████████████████████████████| 304/304 [03:24<00:00,  1.49it/s]\n",
            "Validation: 100%|███████████████████████████████████████████████████| 76/76 [00:28<00:00,  2.65it/s]\n"
          ]
        },
        {
          "name": "stdout",
          "output_type": "stream",
          "text": [
            "Epoch 17/35, Train Loss: 0.0343, Validation Loss: 0.0078, Validation Accuracy: 99.81%\n"
          ]
        },
        {
          "name": "stderr",
          "output_type": "stream",
          "text": [
            "Epoch 18/35: 100%|████████████████████████████████████████████████| 304/304 [03:23<00:00,  1.49it/s]\n",
            "Validation: 100%|███████████████████████████████████████████████████| 76/76 [00:28<00:00,  2.63it/s]\n"
          ]
        },
        {
          "name": "stdout",
          "output_type": "stream",
          "text": [
            "Epoch 18/35, Train Loss: 0.0323, Validation Loss: 0.0081, Validation Accuracy: 99.75%\n"
          ]
        },
        {
          "name": "stderr",
          "output_type": "stream",
          "text": [
            "Epoch 19/35: 100%|████████████████████████████████████████████████| 304/304 [03:23<00:00,  1.50it/s]\n",
            "Validation: 100%|███████████████████████████████████████████████████| 76/76 [00:28<00:00,  2.65it/s]\n"
          ]
        },
        {
          "name": "stdout",
          "output_type": "stream",
          "text": [
            "Epoch 19/35, Train Loss: 0.0334, Validation Loss: 0.0075, Validation Accuracy: 99.84%\n"
          ]
        },
        {
          "name": "stderr",
          "output_type": "stream",
          "text": [
            "Epoch 20/35: 100%|████████████████████████████████████████████████| 304/304 [03:23<00:00,  1.49it/s]\n",
            "Validation: 100%|███████████████████████████████████████████████████| 76/76 [00:28<00:00,  2.65it/s]\n"
          ]
        },
        {
          "name": "stdout",
          "output_type": "stream",
          "text": [
            "Epoch 20/35, Train Loss: 0.0305, Validation Loss: 0.0073, Validation Accuracy: 99.81%\n"
          ]
        },
        {
          "name": "stderr",
          "output_type": "stream",
          "text": [
            "Epoch 21/35: 100%|████████████████████████████████████████████████| 304/304 [03:23<00:00,  1.49it/s]\n",
            "Validation: 100%|███████████████████████████████████████████████████| 76/76 [00:28<00:00,  2.66it/s]\n"
          ]
        },
        {
          "name": "stdout",
          "output_type": "stream",
          "text": [
            "Epoch 21/35, Train Loss: 0.0287, Validation Loss: 0.0066, Validation Accuracy: 99.86%\n"
          ]
        },
        {
          "name": "stderr",
          "output_type": "stream",
          "text": [
            "Epoch 22/35: 100%|████████████████████████████████████████████████| 304/304 [03:23<00:00,  1.49it/s]\n",
            "Validation: 100%|███████████████████████████████████████████████████| 76/76 [00:28<00:00,  2.66it/s]\n"
          ]
        },
        {
          "name": "stdout",
          "output_type": "stream",
          "text": [
            "Epoch 22/35, Train Loss: 0.0299, Validation Loss: 0.0071, Validation Accuracy: 99.77%\n"
          ]
        },
        {
          "name": "stderr",
          "output_type": "stream",
          "text": [
            "Epoch 23/35: 100%|████████████████████████████████████████████████| 304/304 [03:23<00:00,  1.49it/s]\n",
            "Validation: 100%|███████████████████████████████████████████████████| 76/76 [00:28<00:00,  2.67it/s]\n"
          ]
        },
        {
          "name": "stdout",
          "output_type": "stream",
          "text": [
            "Epoch 23/35, Train Loss: 0.0286, Validation Loss: 0.0066, Validation Accuracy: 99.84%\n"
          ]
        },
        {
          "name": "stderr",
          "output_type": "stream",
          "text": [
            "Epoch 24/35: 100%|████████████████████████████████████████████████| 304/304 [03:23<00:00,  1.49it/s]\n",
            "Validation: 100%|███████████████████████████████████████████████████| 76/76 [00:28<00:00,  2.65it/s]\n"
          ]
        },
        {
          "name": "stdout",
          "output_type": "stream",
          "text": [
            "Epoch 24/35, Train Loss: 0.0267, Validation Loss: 0.0062, Validation Accuracy: 99.86%\n"
          ]
        },
        {
          "name": "stderr",
          "output_type": "stream",
          "text": [
            "Epoch 25/35: 100%|████████████████████████████████████████████████| 304/304 [03:24<00:00,  1.49it/s]\n",
            "Validation: 100%|███████████████████████████████████████████████████| 76/76 [00:28<00:00,  2.66it/s]\n"
          ]
        },
        {
          "name": "stdout",
          "output_type": "stream",
          "text": [
            "Epoch 00025: reducing learning rate of group 0 to 1.0000e-04.\n",
            "Epoch 25/35, Train Loss: 0.0269, Validation Loss: 0.0062, Validation Accuracy: 99.88%\n"
          ]
        },
        {
          "name": "stderr",
          "output_type": "stream",
          "text": [
            "Epoch 26/35: 100%|████████████████████████████████████████████████| 304/304 [03:23<00:00,  1.49it/s]\n",
            "Validation: 100%|███████████████████████████████████████████████████| 76/76 [00:28<00:00,  2.65it/s]\n"
          ]
        },
        {
          "name": "stdout",
          "output_type": "stream",
          "text": [
            "Epoch 26/35, Train Loss: 0.0253, Validation Loss: 0.0060, Validation Accuracy: 99.88%\n"
          ]
        },
        {
          "name": "stderr",
          "output_type": "stream",
          "text": [
            "Epoch 27/35: 100%|████████████████████████████████████████████████| 304/304 [03:24<00:00,  1.49it/s]\n",
            "Validation: 100%|███████████████████████████████████████████████████| 76/76 [00:28<00:00,  2.67it/s]\n"
          ]
        },
        {
          "name": "stdout",
          "output_type": "stream",
          "text": [
            "Epoch 27/35, Train Loss: 0.0263, Validation Loss: 0.0059, Validation Accuracy: 99.84%\n"
          ]
        },
        {
          "name": "stderr",
          "output_type": "stream",
          "text": [
            "Epoch 28/35: 100%|████████████████████████████████████████████████| 304/304 [03:24<00:00,  1.49it/s]\n",
            "Validation: 100%|███████████████████████████████████████████████████| 76/76 [00:28<00:00,  2.65it/s]\n"
          ]
        },
        {
          "name": "stdout",
          "output_type": "stream",
          "text": [
            "Epoch 28/35, Train Loss: 0.0281, Validation Loss: 0.0060, Validation Accuracy: 99.84%\n"
          ]
        },
        {
          "name": "stderr",
          "output_type": "stream",
          "text": [
            "Epoch 29/35: 100%|████████████████████████████████████████████████| 304/304 [03:24<00:00,  1.49it/s]\n",
            "Validation: 100%|███████████████████████████████████████████████████| 76/76 [00:28<00:00,  2.65it/s]\n"
          ]
        },
        {
          "name": "stdout",
          "output_type": "stream",
          "text": [
            "Epoch 29/35, Train Loss: 0.0265, Validation Loss: 0.0060, Validation Accuracy: 99.86%\n"
          ]
        },
        {
          "name": "stderr",
          "output_type": "stream",
          "text": [
            "Epoch 30/35: 100%|████████████████████████████████████████████████| 304/304 [03:24<00:00,  1.49it/s]\n",
            "Validation: 100%|███████████████████████████████████████████████████| 76/76 [00:28<00:00,  2.67it/s]\n"
          ]
        },
        {
          "name": "stdout",
          "output_type": "stream",
          "text": [
            "Epoch 30/35, Train Loss: 0.0271, Validation Loss: 0.0060, Validation Accuracy: 99.86%\n"
          ]
        },
        {
          "name": "stderr",
          "output_type": "stream",
          "text": [
            "Epoch 31/35: 100%|████████████████████████████████████████████████| 304/304 [03:24<00:00,  1.49it/s]\n",
            "Validation: 100%|███████████████████████████████████████████████████| 76/76 [00:28<00:00,  2.66it/s]\n"
          ]
        },
        {
          "name": "stdout",
          "output_type": "stream",
          "text": [
            "Epoch 31/35, Train Loss: 0.0265, Validation Loss: 0.0060, Validation Accuracy: 99.88%\n"
          ]
        },
        {
          "name": "stderr",
          "output_type": "stream",
          "text": [
            "Epoch 32/35: 100%|████████████████████████████████████████████████| 304/304 [03:24<00:00,  1.49it/s]\n",
            "Validation: 100%|███████████████████████████████████████████████████| 76/76 [00:28<00:00,  2.65it/s]\n"
          ]
        },
        {
          "name": "stdout",
          "output_type": "stream",
          "text": [
            "Epoch 32/35, Train Loss: 0.0270, Validation Loss: 0.0059, Validation Accuracy: 99.86%\n"
          ]
        },
        {
          "name": "stderr",
          "output_type": "stream",
          "text": [
            "Epoch 33/35: 100%|████████████████████████████████████████████████| 304/304 [03:23<00:00,  1.49it/s]\n",
            "Validation: 100%|███████████████████████████████████████████████████| 76/76 [00:28<00:00,  2.65it/s]\n"
          ]
        },
        {
          "name": "stdout",
          "output_type": "stream",
          "text": [
            "Epoch 33/35, Train Loss: 0.0261, Validation Loss: 0.0059, Validation Accuracy: 99.84%\n"
          ]
        },
        {
          "name": "stderr",
          "output_type": "stream",
          "text": [
            "Epoch 34/35: 100%|████████████████████████████████████████████████| 304/304 [03:23<00:00,  1.49it/s]\n",
            "Validation: 100%|███████████████████████████████████████████████████| 76/76 [00:28<00:00,  2.67it/s]\n"
          ]
        },
        {
          "name": "stdout",
          "output_type": "stream",
          "text": [
            "Epoch 34/35, Train Loss: 0.0259, Validation Loss: 0.0059, Validation Accuracy: 99.88%\n"
          ]
        },
        {
          "name": "stderr",
          "output_type": "stream",
          "text": [
            "Epoch 35/35: 100%|████████████████████████████████████████████████| 304/304 [03:24<00:00,  1.49it/s]\n",
            "Validation: 100%|███████████████████████████████████████████████████| 76/76 [00:28<00:00,  2.65it/s]\n"
          ]
        },
        {
          "name": "stdout",
          "output_type": "stream",
          "text": [
            "Epoch 35/35, Train Loss: 0.0264, Validation Loss: 0.0059, Validation Accuracy: 99.86%\n"
          ]
        }
      ],
      "source": [
        "best_val_loss = 1e7\n",
        "train_losses = list()\n",
        "val_losses = list()\n",
        "\n",
        "for epoch in range(EPOCHS):\n",
        "  # Train\n",
        "  vgg16_model.train()\n",
        "  train_loss = 0.0\n",
        "  for batch in tqdm(train_dl, desc=f\"Epoch {epoch + 1}/{EPOCHS}\", ncols=100):\n",
        "    inputs, labels = batch\n",
        "    inputs = inputs.to(device)\n",
        "    labels = labels.to(device)\n",
        "    optimizer.zero_grad()\n",
        "    outputs = vgg16_model(inputs)\n",
        "    loss = criterion(outputs, labels)\n",
        "    loss.backward()\n",
        "    optimizer.step()\n",
        "    train_loss += loss.item()\n",
        "\n",
        "  # Validate\n",
        "  vgg16_model.eval()\n",
        "  val_loss = 0.0\n",
        "  correct_predictions = 0\n",
        "  total_predictions = 0\n",
        "  with torch.no_grad():\n",
        "    for batch in tqdm(val_dl, desc=\"Validation\", ncols=100):\n",
        "      inputs, labels = batch\n",
        "      inputs = inputs.to(device)\n",
        "      labels = labels.to(device)\n",
        "      outputs = vgg16_model(inputs)\n",
        "      loss = criterion(outputs, labels)\n",
        "      val_loss += loss.item()\n",
        "      _, predicted = torch.max(outputs, 1)\n",
        "      total_predictions += labels.size(0)\n",
        "      correct_predictions += (predicted == labels).sum().item()\n",
        "  lr_scheduler.step(val_loss)\n",
        "\n",
        "  if val_loss < best_val_loss:\n",
        "    best_val_loss = val_loss\n",
        "    torch.save(vgg16_model.state_dict(), \"/content/checkpoints/vgg16-smallnorb.pt\")\n",
        "\n",
        "  train_losses.append(train_loss / len(train_dl))\n",
        "  val_losses.append(val_loss / len(val_dl))\n",
        "\n",
        "  accuracy = 100 * correct_predictions / total_predictions\n",
        "  print(f\"Epoch {epoch + 1}/{EPOCHS}, Train Loss: {train_loss / len(train_dl):.4f}, Validation Loss: {val_loss / len(val_dl):.4f}, Validation Accuracy: {accuracy:.2f}%\")\n"
      ]
    },
    {
      "cell_type": "code",
      "execution_count": 16,
      "metadata": {
        "colab": {
          "base_uri": "https://localhost:8080/",
          "height": 632
        },
        "id": "MwK9nyht87GP",
        "outputId": "6500a90b-49b0-4807-d35a-0077e25ca276"
      },
      "outputs": [
        {
          "data": {
            "text/plain": [
              "Text(0.5, 1.0, 'VGG16 Training on SmallNORB')"
            ]
          },
          "execution_count": 16,
          "metadata": {},
          "output_type": "execute_result"
        },
        {
          "data": {
            "image/png": "[encoded data removed]",
            "text/plain": [
              "<Figure size 1200x600 with 1 Axes>"
            ]
          },
          "metadata": {},
          "output_type": "display_data"
        }
      ],
      "source": [
        "# Plot training results\n",
        "plt.figure(figsize=(8,4), dpi=150)\n",
        "plt.plot(train_losses, color=(78 / 255, 24 / 255, 111 / 255), label=\"Training\")\n",
        "plt.plot(val_losses, color=(107 / 255, 140 / 255, 191 / 255), label=\"Validation\")\n",
        "plt.legend(loc=\"best\")\n",
        "plt.xlabel(\"Epochs\")\n",
        "plt.ylabel(\"Loss\")\n",
        "plt.title(\"VGG16 Training on SmallNORB\")"
      ]
    },
    {
      "cell_type": "code",
      "execution_count": 17,
      "metadata": {
        "colab": {
          "base_uri": "https://localhost:8080/"
        },
        "id": "pWOVyxO6AwPJ",
        "outputId": "9500fe91-dee3-4325-892f-31ef4278e784"
      },
      "outputs": [
        {
          "name": "stderr",
          "output_type": "stream",
          "text": [
            "Testing: 100%|████████████████████████████████████████████████████| 380/380 [02:22<00:00,  2.66it/s]"
          ]
        },
        {
          "name": "stdout",
          "output_type": "stream",
          "text": [
            "\n",
            "Test set accuracy = 90.8066%\n"
          ]
        },
        {
          "name": "stderr",
          "output_type": "stream",
          "text": [
            "\n"
          ]
        }
      ],
      "source": [
        "# Predict on Test set\n",
        "vgg16_model.eval()\n",
        "test_loss = 0.0\n",
        "correct_predictions = 0\n",
        "total_predictions = 0\n",
        "with torch.no_grad():\n",
        "    for batch in tqdm(test_dl, desc=\"Testing\", ncols=100):\n",
        "      inputs, labels = batch\n",
        "      inputs = inputs.to(device)\n",
        "      labels = labels.to(device)\n",
        "      outputs = vgg16_model(inputs)\n",
        "      loss = criterion(outputs, labels)\n",
        "      test_loss += loss.item()\n",
        "      _, predicted = torch.max(outputs, 1)\n",
        "      total_predictions += labels.size(0)\n",
        "      correct_predictions += (predicted == labels).sum().item()\n",
        "\n",
        "print(f\"\\nTest set accuracy = {(100 * correct_predictions / total_predictions):.4f}%\")"
      ]
    },
    {
      "cell_type": "markdown",
      "metadata": {
        "id": "-VChpNC18JsT"
      },
      "source": [
        "## ConvNeXt"
      ]
    },
    {
      "cell_type": "code",
      "execution_count": 32,
      "metadata": {
        "id": "reQoTIjUBRlu"
      },
      "outputs": [],
      "source": [
        "transforms_train = transforms.Compose([\n",
        "    transforms.Resize(size=(224,224)),\n",
        "    transforms.RandAugment(num_ops=9, magnitude=0.5),\n",
        "    transforms.ToTensor(),\n",
        "    transforms.Normalize([0.485], [0.229]),\n",
        "    transforms.RandomErasing(p=0.25)\n",
        "])\n",
        "\n",
        "transforms_val = transforms.Compose([\n",
        "    transforms.Resize(size=(224,224)),\n",
        "    transforms.ToTensor(),\n",
        "    transforms.Normalize([0.485], [0.229]),\n",
        "])\n",
        "\n",
        "transforms_test = transforms.Compose([\n",
        "    transforms.Resize(size=(224,224)),\n",
        "    transforms.ToTensor(),\n",
        "    transforms.Normalize([0.485], [0.229]),\n",
        "])"
      ]
    },
    {
      "cell_type": "code",
      "execution_count": 33,
      "metadata": {
        "id": "gEVYtdrzBRHU"
      },
      "outputs": [],
      "source": [
        "train_ds = SmallNORBDataset(smallnorb, \"train\", transform=transforms_train)\n",
        "val_ds = SmallNORBDataset(smallnorb, \"train\", transform=transforms_val)\n",
        "\n",
        "train_size = int(0.8 * len(train_ds))\n",
        "val_size = len(train_ds) - train_size\n",
        "train_ds, val_ds = torch.utils.data.random_split(train_ds, [train_size, val_size])\n",
        "\n",
        "val_ds.dataset.transform = transforms_val\n",
        "\n",
        "test_ds = SmallNORBDataset(smallnorb, \"test\", transform=transforms_test)"
      ]
    },
    {
      "cell_type": "code",
      "execution_count": 26,
      "metadata": {
        "id": "d2mChAWA9WG1"
      },
      "outputs": [],
      "source": [
        "IN_CHANNELS = 1\n",
        "N_CLASSES = 5\n",
        "\n",
        "convnext_model = tv.models.convnext_base(weights=\"IMAGENET1K_V1\")"
      ]
    },
    {
      "cell_type": "code",
      "execution_count": 27,
      "metadata": {
        "id": "7bhYWUeG-sCM"
      },
      "outputs": [],
      "source": [
        "for param in convnext_model.parameters():\n",
        "    param.requires_grad = False"
      ]
    },
    {
      "cell_type": "code",
      "execution_count": 28,
      "metadata": {
        "id": "t94eFe86_Foj"
      },
      "outputs": [],
      "source": [
        "# 1-channel inputs\n",
        "convnext_model.features[0][0] = nn.Conv2d(IN_CHANNELS, 128, kernel_size=(4,4), stride=(4,4))\n",
        "\n",
        "# Add on classifier\n",
        "n_inputs = convnext_model.classifier[2].in_features\n",
        "convnext_model.classifier[2] = nn.Sequential(\n",
        "    nn.Linear(n_inputs, 256), nn.GELU(), nn.Dropout(0.4),\n",
        "    nn.Linear(256, N_CLASSES), nn.Softmax(dim=1))"
      ]
    },
    {
      "cell_type": "code",
      "execution_count": null,
      "metadata": {},
      "outputs": [],
      "source": [
        "convnext_model = convnext_model.to(device)"
      ]
    },
    {
      "cell_type": "code",
      "execution_count": 29,
      "metadata": {
        "colab": {
          "base_uri": "https://localhost:8080/"
        },
        "id": "TZVnRzAjIR0b",
        "outputId": "9bbeb2e4-72ee-4219-9099-ee21410cc821"
      },
      "outputs": [
        {
          "name": "stdout",
          "output_type": "stream",
          "text": [
            "87,830,149 total parameters.\n",
            "263,685 trainable parameters.\n"
          ]
        }
      ],
      "source": [
        "total_params = sum(p.numel() for p in convnext_model.parameters())\n",
        "print(f\"{total_params:,} total parameters.\")\n",
        "total_trainable_params = sum(\n",
        "    p.numel() for p in convnext_model.parameters() if p.requires_grad)\n",
        "print(f\"{total_trainable_params:,} trainable parameters.\")"
      ]
    },
    {
      "cell_type": "code",
      "execution_count": null,
      "metadata": {
        "id": "mq2s9XX0ALKz"
      },
      "outputs": [],
      "source": [
        "BATCH_SIZE = 64\n",
        "EPOCHS = 30\n",
        "LEARNING_RATE = 5e-5\n",
        "WEIGHT_DECAY = 1e-8"
      ]
    },
    {
      "cell_type": "code",
      "execution_count": null,
      "metadata": {
        "id": "cLXn7E1KsCJZ"
      },
      "outputs": [],
      "source": [
        "train_dl = torch.utils.data.DataLoader(dataset=train_ds, batch_size=BATCH_SIZE, shuffle=True)\n",
        "val_dl = torch.utils.data.DataLoader(dataset=val_ds, batch_size=BATCH_SIZE)\n",
        "test_dl = torch.utils.data.DataLoader(dataset=test_ds, batch_size=BATCH_SIZE)"
      ]
    },
    {
      "cell_type": "code",
      "execution_count": null,
      "metadata": {
        "id": "jW26rX_6uEH6"
      },
      "outputs": [],
      "source": [
        "criterion = nn.CrossEntropyLoss(label_smoothing=0.1)\n",
        "optimizer = torch.optim.AdamW(convnext_model.parameters(), lr=LEARNING_RATE, weight_decay=WEIGHT_DECAY)\n",
        "lr_scheduler = torch.optim.lr_scheduler.CosineAnnealingLR(optimizer=optimizer, T_max=11)"
      ]
    },
    {
      "cell_type": "code",
      "execution_count": null,
      "metadata": {
        "id": "BK4UPDbtzLkP"
      },
      "outputs": [],
      "source": [
        "# Additional ConvNeXt augmentations\n",
        "cutmix = v2.CutMix(num_classes=N_CLASSES)\n",
        "mixup = v2.MixUp(num_classes=N_CLASSES)\n",
        "cutmix_or_mixup = v2.RandomChoice([cutmix, mixup])"
      ]
    },
    {
      "cell_type": "code",
      "execution_count": null,
      "metadata": {
        "id": "Ek51Wxjlw8cV"
      },
      "outputs": [],
      "source": [
        "best_val_loss = 1e7\n",
        "train_losses = list()\n",
        "val_losses = list()\n",
        "\n",
        "for epoch in range(EPOCHS):\n",
        "  # Train\n",
        "  convnext_model.train()\n",
        "  train_loss = 0.0\n",
        "  for batch in tqdm(train_dl, desc=f\"Epoch {epoch + 1}/{EPOCHS}\", ncols=100):\n",
        "    inputs, labels = batch\n",
        "    inputs, labels = cutmix_or_mixup(inputs, labels)\n",
        "    inputs = inputs.to(device)\n",
        "    labels = labels.to(device)\n",
        "    optimizer.zero_grad()\n",
        "    outputs = convnext_model(inputs)\n",
        "    loss = criterion(outputs, labels)\n",
        "    loss.backward()\n",
        "    optimizer.step()\n",
        "    train_loss += loss.item()\n",
        "\n",
        "  # Validate\n",
        "  convnext_model.eval()\n",
        "  val_loss = 0.0\n",
        "  correct_predictions = 0\n",
        "  total_predictions = 0\n",
        "  with torch.no_grad():\n",
        "    for batch in tqdm(val_dl, desc=\"Validation\", ncols=100):\n",
        "      inputs, labels = batch\n",
        "      inputs = inputs.to(device)\n",
        "      labels = labels.to(device)\n",
        "      outputs = convnext_model(inputs)\n",
        "      loss = criterion(outputs, labels)\n",
        "      val_loss += loss.item()\n",
        "      _, predicted = torch.max(outputs, 1)\n",
        "      total_predictions += labels.size(0)\n",
        "      correct_predictions += (predicted == labels).sum().item()\n",
        "  lr_scheduler.step()\n",
        "\n",
        "  if val_loss < best_val_loss:\n",
        "    best_val_loss = val_loss\n",
        "    torch.save(convnext_model.state_dict(), \"/content/checkpoints/convnext-smallnorb.pt\")\n",
        "\n",
        "  train_losses.append(train_loss / len(train_dl))\n",
        "  val_losses.append(val_loss / len(val_dl))\n",
        "\n",
        "  accuracy = 100 * correct_predictions / total_predictions\n",
        "  print(f\"Epoch {epoch + 1}/{EPOCHS}, Train Loss: {train_loss / len(train_dl):.4f}, Validation Loss: {val_loss / len(val_dl):.4f}, Validation Accuracy: {accuracy:.2f}%\")\n"
      ]
    }
  ],
  "metadata": {
    "accelerator": "GPU",
    "colab": {
      "gpuType": "T4",
      "provenance": []
    },
    "kernelspec": {
      "display_name": "Python 3",
      "name": "python3"
    },
    "language_info": {
      "name": "python"
    }
  },
  "nbformat": 4,
  "nbformat_minor": 0
}
