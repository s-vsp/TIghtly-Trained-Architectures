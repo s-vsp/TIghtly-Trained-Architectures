{
  "cells": [
    {
      "cell_type": "markdown",
      "metadata": {
        "id": "HK74_AGm9AQy"
      },
      "source": [
        "# SmallNORB"
      ]
    },
    {
      "cell_type": "code",
      "execution_count": null,
      "metadata": {
        "id": "ELoZh7xwXk3H"
      },
      "outputs": [],
      "source": [
        "!pip install datasets\n",
        "!pip install transformers"
      ]
    },
    {
      "cell_type": "code",
      "execution_count": 2,
      "metadata": {
        "id": "saDmHjP_XzSP"
      },
      "outputs": [],
      "source": [
        "import numpy as np\n",
        "import torch\n",
        "import torch.nn as nn\n",
        "import torch.nn.init as init\n",
        "import torchvision as tv\n",
        "import matplotlib.pyplot as plt\n",
        "import seaborn as sns\n",
        "\n",
        "from tqdm import tqdm\n",
        "from torchvision import transforms\n",
        "from datasets import load_dataset\n",
        "\n",
        "sns.set_theme()"
      ]
    },
    {
      "cell_type": "code",
      "execution_count": 3,
      "metadata": {
        "colab": {
          "base_uri": "https://localhost:8080/"
        },
        "id": "SRMFEAwCgwMx",
        "outputId": "649b93cd-aa1e-4af7-8026-7da1650d98b8"
      },
      "outputs": [
        {
          "data": {
            "text/plain": [
              "device(type='cuda')"
            ]
          },
          "execution_count": 3,
          "metadata": {},
          "output_type": "execute_result"
        }
      ],
      "source": [
        "device = torch.device(\"cuda\" if torch.cuda.is_available() else \"cpu\")\n",
        "device"
      ]
    },
    {
      "cell_type": "code",
      "execution_count": null,
      "metadata": {
        "id": "A7YonrHpYBQU"
      },
      "outputs": [],
      "source": [
        "smallnorb = load_dataset(\"Ramos-Ramos/smallnorb\")"
      ]
    },
    {
      "cell_type": "code",
      "execution_count": 5,
      "metadata": {
        "id": "tIX0_kZKYD_d"
      },
      "outputs": [],
      "source": [
        "class SmallNORBDataset(torch.utils.data.Dataset):\n",
        "  def __init__(self, hf_dataset, subset=\"train\", transform=None):\n",
        "    self.hf_dataset = hf_dataset\n",
        "    self.subset = subset\n",
        "    self.transform = transform\n",
        "\n",
        "  def __len__(self):\n",
        "    return len(self.hf_dataset[self.subset])\n",
        "\n",
        "  def __getitem__(self, idx):\n",
        "    sample = self.hf_dataset[self.subset][idx]\n",
        "    image = sample[\"image_lt\"]\n",
        "    label = sample[\"category\"]\n",
        "\n",
        "    if self.transform:\n",
        "      image = self.transform(image)\n",
        "\n",
        "    return image, label"
      ]
    },
    {
      "cell_type": "markdown",
      "metadata": {
        "id": "eCh5SuzjdNWn"
      },
      "source": [
        "## VGG16"
      ]
    },
    {
      "cell_type": "code",
      "execution_count": 6,
      "metadata": {
        "id": "_rcaE-4if8S_"
      },
      "outputs": [],
      "source": [
        "transforms_train = transforms.Compose([\n",
        "    transforms.RandomResizedCrop(size=(224,224), scale=(0.8, 1.0)),\n",
        "    transforms.RandomRotation(degrees=30),\n",
        "    transforms.RandomHorizontalFlip(),\n",
        "    transforms.CenterCrop(size=64),\n",
        "    transforms.ToTensor(),\n",
        "    transforms.Normalize([0.485], [0.229])\n",
        "])\n",
        "\n",
        "transforms_val = transforms.Compose([\n",
        "    transforms.Resize(size=(224,224)),\n",
        "    transforms.ToTensor(),\n",
        "    transforms.Normalize([0.485], [0.229])\n",
        "])\n",
        "\n",
        "transforms_test = transforms.Compose([\n",
        "    transforms.Resize(size=(224,224)),\n",
        "    transforms.ToTensor(),\n",
        "    transforms.Normalize([0.485], [0.229])\n",
        "])"
      ]
    },
    {
      "cell_type": "code",
      "execution_count": 7,
      "metadata": {
        "id": "6Yy-i_qWeiSk"
      },
      "outputs": [],
      "source": [
        "train_ds = SmallNORBDataset(smallnorb, \"train\", transform=transforms_train)\n",
        "val_ds = SmallNORBDataset(smallnorb, \"train\", transform=transforms_val)\n",
        "\n",
        "train_size = int(0.8 * len(train_ds))\n",
        "val_size = len(train_ds) - train_size\n",
        "train_ds, val_ds = torch.utils.data.random_split(train_ds, [train_size, val_size])\n",
        "\n",
        "test_ds = SmallNORBDataset(smallnorb, \"test\", transform=transforms_test)"
      ]
    },
    {
      "cell_type": "code",
      "execution_count": 27,
      "metadata": {
        "id": "el1AB7KlgSTD"
      },
      "outputs": [],
      "source": [
        "IN_CHANNELS = 1\n",
        "N_CLASSES = 5\n",
        "\n",
        "vgg16_model = tv.models.vgg16(weights=\"IMAGENET1K_V1\")"
      ]
    },
    {
      "cell_type": "code",
      "execution_count": 28,
      "metadata": {
        "id": "Z49kALI7L3-A"
      },
      "outputs": [],
      "source": [
        "for param in vgg16_model.parameters():\n",
        "    param.requires_grad = False"
      ]
    },
    {
      "cell_type": "code",
      "execution_count": 29,
      "metadata": {
        "id": "doYJYuJcLwXD"
      },
      "outputs": [],
      "source": [
        "# 1-channel inputs\n",
        "vgg16_model.features[0] = nn.Conv2d(IN_CHANNELS, 64, kernel_size=(3,3), stride=(1,1), padding=(1,1))\n",
        "\n",
        "# Add on classifier\n",
        "n_inputs = vgg16_model.classifier[6].in_features\n",
        "vgg16_model.classifier[6] = nn.Sequential(\n",
        "    nn.Linear(n_inputs, 256), nn.ReLU(), nn.Dropout(0.4),\n",
        "    nn.Linear(256, N_CLASSES), nn.LogSoftmax(dim=1))"
      ]
    },
    {
      "cell_type": "code",
      "execution_count": 30,
      "metadata": {
        "id": "IMKcEC0CmYAA"
      },
      "outputs": [],
      "source": [
        "vgg16_model = vgg16_model.to(device)"
      ]
    },
    {
      "cell_type": "code",
      "execution_count": 31,
      "metadata": {
        "colab": {
          "base_uri": "https://localhost:8080/"
        },
        "id": "9nNEJk5zL8wt",
        "outputId": "84173107-0bbf-4cca-9076-d5e65f2c9cb3"
      },
      "outputs": [
        {
          "name": "stdout",
          "output_type": "stream",
          "text": [
            "135,309,509 total parameters.\n",
            "1,050,757 trainable parameters.\n"
          ]
        }
      ],
      "source": [
        "total_params = sum(p.numel() for p in vgg16_model.parameters())\n",
        "print(f\"{total_params:,} total parameters.\")\n",
        "total_trainable_params = sum(\n",
        "    p.numel() for p in vgg16_model.parameters() if p.requires_grad)\n",
        "print(f\"{total_trainable_params:,} trainable parameters.\")"
      ]
    },
    {
      "cell_type": "code",
      "execution_count": 34,
      "metadata": {
        "id": "xzcNgOXbnfI8"
      },
      "outputs": [],
      "source": [
        "BATCH_SIZE = 64\n",
        "EPOCHS = 50\n",
        "LEARNING_RATE = 1e-2\n",
        "MOMENTUM = 0.9\n",
        "WEIGHT_DECAY = 5e-4"
      ]
    },
    {
      "cell_type": "code",
      "execution_count": 35,
      "metadata": {
        "id": "LwhtckiYpIpc"
      },
      "outputs": [],
      "source": [
        "train_dl = torch.utils.data.DataLoader(dataset=train_ds, batch_size=BATCH_SIZE, shuffle=True)\n",
        "val_dl = torch.utils.data.DataLoader(dataset=val_ds, batch_size=BATCH_SIZE)\n",
        "test_dl = torch.utils.data.DataLoader(dataset=test_ds, batch_size=BATCH_SIZE)"
      ]
    },
    {
      "cell_type": "code",
      "execution_count": 36,
      "metadata": {
        "id": "Lfts5f9upscs"
      },
      "outputs": [],
      "source": [
        "criterion = nn.NLLLoss()\n",
        "optimizer = torch.optim.SGD(vgg16_model.parameters(), lr=LEARNING_RATE, momentum=MOMENTUM, weight_decay=WEIGHT_DECAY)\n",
        "lr_scheduler = torch.optim.lr_scheduler.ReduceLROnPlateau(\n",
        "    optimizer=optimizer, mode=\"max\", factor=0.1, patience=5, verbose=True\n",
        ")"
      ]
    },
    {
      "cell_type": "code",
      "execution_count": 21,
      "metadata": {
        "colab": {
          "base_uri": "https://localhost:8080/"
        },
        "id": "18Hd-yk0qBiY",
        "outputId": "5a1d9fe3-f13d-42bf-dbd5-c9ca5ff62413"
      },
      "outputs": [
        {
          "name": "stderr",
          "output_type": "stream",
          "text": [
            "Epoch 1/50: 100%|█████████████████████████████████████████████████| 304/304 [00:51<00:00,  5.90it/s]\n",
            "Validation: 100%|███████████████████████████████████████████████████| 76/76 [00:11<00:00,  6.64it/s]\n"
          ]
        },
        {
          "name": "stdout",
          "output_type": "stream",
          "text": [
            "Epoch 1/50, Train Loss: 0.7072, Validation Loss: 0.3490, Validation Accuracy: 87.10%\n"
          ]
        },
        {
          "name": "stderr",
          "output_type": "stream",
          "text": [
            "Epoch 2/50: 100%|█████████████████████████████████████████████████| 304/304 [00:51<00:00,  5.89it/s]\n",
            "Validation: 100%|███████████████████████████████████████████████████| 76/76 [00:11<00:00,  6.62it/s]\n"
          ]
        },
        {
          "name": "stdout",
          "output_type": "stream",
          "text": [
            "Epoch 2/50, Train Loss: 0.3775, Validation Loss: 0.2627, Validation Accuracy: 90.08%\n"
          ]
        },
        {
          "name": "stderr",
          "output_type": "stream",
          "text": [
            "Epoch 3/50: 100%|█████████████████████████████████████████████████| 304/304 [00:52<00:00,  5.83it/s]\n",
            "Validation: 100%|███████████████████████████████████████████████████| 76/76 [00:11<00:00,  6.51it/s]\n"
          ]
        },
        {
          "name": "stdout",
          "output_type": "stream",
          "text": [
            "Epoch 3/50, Train Loss: 0.3134, Validation Loss: 0.1952, Validation Accuracy: 93.46%\n"
          ]
        },
        {
          "name": "stderr",
          "output_type": "stream",
          "text": [
            "Epoch 4/50: 100%|█████████████████████████████████████████████████| 304/304 [00:53<00:00,  5.69it/s]\n",
            "Validation: 100%|███████████████████████████████████████████████████| 76/76 [00:11<00:00,  6.52it/s]\n"
          ]
        },
        {
          "name": "stdout",
          "output_type": "stream",
          "text": [
            "Epoch 4/50, Train Loss: 0.2761, Validation Loss: 0.1705, Validation Accuracy: 93.81%\n"
          ]
        },
        {
          "name": "stderr",
          "output_type": "stream",
          "text": [
            "Epoch 5/50: 100%|█████████████████████████████████████████████████| 304/304 [00:52<00:00,  5.80it/s]\n",
            "Validation: 100%|███████████████████████████████████████████████████| 76/76 [00:11<00:00,  6.67it/s]\n"
          ]
        },
        {
          "name": "stdout",
          "output_type": "stream",
          "text": [
            "Epoch 5/50, Train Loss: 0.2667, Validation Loss: 0.1744, Validation Accuracy: 93.54%\n"
          ]
        },
        {
          "name": "stderr",
          "output_type": "stream",
          "text": [
            "Epoch 6/50: 100%|█████████████████████████████████████████████████| 304/304 [00:52<00:00,  5.80it/s]\n",
            "Validation: 100%|███████████████████████████████████████████████████| 76/76 [00:11<00:00,  6.76it/s]\n"
          ]
        },
        {
          "name": "stdout",
          "output_type": "stream",
          "text": [
            "Epoch 6/50, Train Loss: 0.2437, Validation Loss: 0.1669, Validation Accuracy: 93.70%\n"
          ]
        },
        {
          "name": "stderr",
          "output_type": "stream",
          "text": [
            "Epoch 7/50: 100%|█████████████████████████████████████████████████| 304/304 [00:52<00:00,  5.79it/s]\n",
            "Validation: 100%|███████████████████████████████████████████████████| 76/76 [00:11<00:00,  6.64it/s]\n"
          ]
        },
        {
          "name": "stdout",
          "output_type": "stream",
          "text": [
            "Epoch 00007: reducing learning rate of group 0 to 1.0000e-03.\n",
            "Epoch 7/50, Train Loss: 0.2348, Validation Loss: 0.1336, Validation Accuracy: 94.96%\n"
          ]
        },
        {
          "name": "stderr",
          "output_type": "stream",
          "text": [
            "Epoch 8/50: 100%|█████████████████████████████████████████████████| 304/304 [00:51<00:00,  5.85it/s]\n",
            "Validation: 100%|███████████████████████████████████████████████████| 76/76 [00:11<00:00,  6.60it/s]\n"
          ]
        },
        {
          "name": "stdout",
          "output_type": "stream",
          "text": [
            "Epoch 8/50, Train Loss: 0.1807, Validation Loss: 0.1151, Validation Accuracy: 95.93%\n"
          ]
        },
        {
          "name": "stderr",
          "output_type": "stream",
          "text": [
            "Epoch 9/50: 100%|█████████████████████████████████████████████████| 304/304 [00:54<00:00,  5.60it/s]\n",
            "Validation: 100%|███████████████████████████████████████████████████| 76/76 [00:11<00:00,  6.46it/s]\n"
          ]
        },
        {
          "name": "stdout",
          "output_type": "stream",
          "text": [
            "Epoch 9/50, Train Loss: 0.1768, Validation Loss: 0.1224, Validation Accuracy: 95.31%\n"
          ]
        },
        {
          "name": "stderr",
          "output_type": "stream",
          "text": [
            "Epoch 10/50: 100%|████████████████████████████████████████████████| 304/304 [00:52<00:00,  5.74it/s]\n",
            "Validation: 100%|███████████████████████████████████████████████████| 76/76 [00:12<00:00,  6.31it/s]\n"
          ]
        },
        {
          "name": "stdout",
          "output_type": "stream",
          "text": [
            "Epoch 10/50, Train Loss: 0.1731, Validation Loss: 0.1134, Validation Accuracy: 95.72%\n"
          ]
        },
        {
          "name": "stderr",
          "output_type": "stream",
          "text": [
            "Epoch 11/50: 100%|████████████████████████████████████████████████| 304/304 [00:53<00:00,  5.70it/s]\n",
            "Validation: 100%|███████████████████████████████████████████████████| 76/76 [00:11<00:00,  6.47it/s]\n"
          ]
        },
        {
          "name": "stdout",
          "output_type": "stream",
          "text": [
            "Epoch 11/50, Train Loss: 0.1657, Validation Loss: 0.1081, Validation Accuracy: 95.99%\n"
          ]
        },
        {
          "name": "stderr",
          "output_type": "stream",
          "text": [
            "Epoch 12/50: 100%|████████████████████████████████████████████████| 304/304 [00:52<00:00,  5.77it/s]\n",
            "Validation: 100%|███████████████████████████████████████████████████| 76/76 [00:11<00:00,  6.44it/s]\n"
          ]
        },
        {
          "name": "stdout",
          "output_type": "stream",
          "text": [
            "Epoch 12/50, Train Loss: 0.1656, Validation Loss: 0.1110, Validation Accuracy: 96.01%\n"
          ]
        },
        {
          "name": "stderr",
          "output_type": "stream",
          "text": [
            "Epoch 13/50: 100%|████████████████████████████████████████████████| 304/304 [00:52<00:00,  5.74it/s]\n",
            "Validation: 100%|███████████████████████████████████████████████████| 76/76 [00:11<00:00,  6.59it/s]\n"
          ]
        },
        {
          "name": "stdout",
          "output_type": "stream",
          "text": [
            "Epoch 00013: reducing learning rate of group 0 to 1.0000e-04.\n",
            "Epoch 13/50, Train Loss: 0.1600, Validation Loss: 0.1076, Validation Accuracy: 95.97%\n"
          ]
        },
        {
          "name": "stderr",
          "output_type": "stream",
          "text": [
            "Epoch 14/50: 100%|████████████████████████████████████████████████| 304/304 [00:53<00:00,  5.64it/s]\n",
            "Validation: 100%|███████████████████████████████████████████████████| 76/76 [00:11<00:00,  6.58it/s]\n"
          ]
        },
        {
          "name": "stdout",
          "output_type": "stream",
          "text": [
            "Epoch 14/50, Train Loss: 0.1592, Validation Loss: 0.1066, Validation Accuracy: 96.42%\n"
          ]
        },
        {
          "name": "stderr",
          "output_type": "stream",
          "text": [
            "Epoch 15/50: 100%|████████████████████████████████████████████████| 304/304 [00:52<00:00,  5.78it/s]\n",
            "Validation: 100%|███████████████████████████████████████████████████| 76/76 [00:11<00:00,  6.57it/s]\n"
          ]
        },
        {
          "name": "stdout",
          "output_type": "stream",
          "text": [
            "Epoch 15/50, Train Loss: 0.1561, Validation Loss: 0.1066, Validation Accuracy: 96.17%\n"
          ]
        },
        {
          "name": "stderr",
          "output_type": "stream",
          "text": [
            "Epoch 16/50: 100%|████████████████████████████████████████████████| 304/304 [00:53<00:00,  5.72it/s]\n",
            "Validation: 100%|███████████████████████████████████████████████████| 76/76 [00:12<00:00,  6.32it/s]\n"
          ]
        },
        {
          "name": "stdout",
          "output_type": "stream",
          "text": [
            "Epoch 16/50, Train Loss: 0.1588, Validation Loss: 0.1078, Validation Accuracy: 96.42%\n"
          ]
        },
        {
          "name": "stderr",
          "output_type": "stream",
          "text": [
            "Epoch 17/50: 100%|████████████████████████████████████████████████| 304/304 [00:52<00:00,  5.79it/s]\n",
            "Validation: 100%|███████████████████████████████████████████████████| 76/76 [00:11<00:00,  6.57it/s]\n"
          ]
        },
        {
          "name": "stdout",
          "output_type": "stream",
          "text": [
            "Epoch 17/50, Train Loss: 0.1577, Validation Loss: 0.1094, Validation Accuracy: 96.09%\n"
          ]
        },
        {
          "name": "stderr",
          "output_type": "stream",
          "text": [
            "Epoch 18/50: 100%|████████████████████████████████████████████████| 304/304 [00:52<00:00,  5.81it/s]\n",
            "Validation: 100%|███████████████████████████████████████████████████| 76/76 [00:12<00:00,  6.32it/s]\n"
          ]
        },
        {
          "name": "stdout",
          "output_type": "stream",
          "text": [
            "Epoch 18/50, Train Loss: 0.1630, Validation Loss: 0.1094, Validation Accuracy: 95.93%\n"
          ]
        },
        {
          "name": "stderr",
          "output_type": "stream",
          "text": [
            "Epoch 19/50: 100%|████████████████████████████████████████████████| 304/304 [00:54<00:00,  5.61it/s]\n",
            "Validation: 100%|███████████████████████████████████████████████████| 76/76 [00:11<00:00,  6.35it/s]\n"
          ]
        },
        {
          "name": "stdout",
          "output_type": "stream",
          "text": [
            "Epoch 00019: reducing learning rate of group 0 to 1.0000e-05.\n",
            "Epoch 19/50, Train Loss: 0.1628, Validation Loss: 0.0994, Validation Accuracy: 96.50%\n"
          ]
        },
        {
          "name": "stderr",
          "output_type": "stream",
          "text": [
            "Epoch 20/50: 100%|████████████████████████████████████████████████| 304/304 [00:54<00:00,  5.61it/s]\n",
            "Validation: 100%|███████████████████████████████████████████████████| 76/76 [00:11<00:00,  6.43it/s]\n"
          ]
        },
        {
          "name": "stdout",
          "output_type": "stream",
          "text": [
            "Epoch 20/50, Train Loss: 0.1648, Validation Loss: 0.1118, Validation Accuracy: 96.19%\n"
          ]
        },
        {
          "name": "stderr",
          "output_type": "stream",
          "text": [
            "Epoch 21/50: 100%|████████████████████████████████████████████████| 304/304 [00:52<00:00,  5.75it/s]\n",
            "Validation: 100%|███████████████████████████████████████████████████| 76/76 [00:12<00:00,  6.31it/s]\n"
          ]
        },
        {
          "name": "stdout",
          "output_type": "stream",
          "text": [
            "Epoch 21/50, Train Loss: 0.1606, Validation Loss: 0.0998, Validation Accuracy: 96.46%\n"
          ]
        },
        {
          "name": "stderr",
          "output_type": "stream",
          "text": [
            "Epoch 22/50: 100%|████████████████████████████████████████████████| 304/304 [00:53<00:00,  5.63it/s]\n",
            "Validation: 100%|███████████████████████████████████████████████████| 76/76 [00:12<00:00,  6.32it/s]\n"
          ]
        },
        {
          "name": "stdout",
          "output_type": "stream",
          "text": [
            "Epoch 22/50, Train Loss: 0.1580, Validation Loss: 0.1068, Validation Accuracy: 96.15%\n"
          ]
        },
        {
          "name": "stderr",
          "output_type": "stream",
          "text": [
            "Epoch 23/50: 100%|████████████████████████████████████████████████| 304/304 [00:53<00:00,  5.69it/s]\n",
            "Validation: 100%|███████████████████████████████████████████████████| 76/76 [00:11<00:00,  6.37it/s]\n"
          ]
        },
        {
          "name": "stdout",
          "output_type": "stream",
          "text": [
            "Epoch 23/50, Train Loss: 0.1579, Validation Loss: 0.1050, Validation Accuracy: 96.36%\n"
          ]
        },
        {
          "name": "stderr",
          "output_type": "stream",
          "text": [
            "Epoch 24/50: 100%|████████████████████████████████████████████████| 304/304 [00:54<00:00,  5.53it/s]\n",
            "Validation: 100%|███████████████████████████████████████████████████| 76/76 [00:11<00:00,  6.38it/s]\n"
          ]
        },
        {
          "name": "stdout",
          "output_type": "stream",
          "text": [
            "Epoch 24/50, Train Loss: 0.1527, Validation Loss: 0.1031, Validation Accuracy: 96.30%\n"
          ]
        },
        {
          "name": "stderr",
          "output_type": "stream",
          "text": [
            "Epoch 25/50: 100%|████████████████████████████████████████████████| 304/304 [00:52<00:00,  5.77it/s]\n",
            "Validation: 100%|███████████████████████████████████████████████████| 76/76 [00:11<00:00,  6.49it/s]\n"
          ]
        },
        {
          "name": "stdout",
          "output_type": "stream",
          "text": [
            "Epoch 00025: reducing learning rate of group 0 to 1.0000e-06.\n",
            "Epoch 25/50, Train Loss: 0.1529, Validation Loss: 0.1114, Validation Accuracy: 96.01%\n"
          ]
        },
        {
          "name": "stderr",
          "output_type": "stream",
          "text": [
            "Epoch 26/50: 100%|████████████████████████████████████████████████| 304/304 [00:52<00:00,  5.80it/s]\n",
            "Validation: 100%|███████████████████████████████████████████████████| 76/76 [00:11<00:00,  6.60it/s]\n"
          ]
        },
        {
          "name": "stdout",
          "output_type": "stream",
          "text": [
            "Epoch 26/50, Train Loss: 0.1597, Validation Loss: 0.1030, Validation Accuracy: 96.60%\n"
          ]
        },
        {
          "name": "stderr",
          "output_type": "stream",
          "text": [
            "Epoch 27/50: 100%|████████████████████████████████████████████████| 304/304 [00:52<00:00,  5.79it/s]\n",
            "Validation: 100%|███████████████████████████████████████████████████| 76/76 [00:11<00:00,  6.77it/s]\n"
          ]
        },
        {
          "name": "stdout",
          "output_type": "stream",
          "text": [
            "Epoch 27/50, Train Loss: 0.1566, Validation Loss: 0.1063, Validation Accuracy: 96.15%\n"
          ]
        },
        {
          "name": "stderr",
          "output_type": "stream",
          "text": [
            "Epoch 28/50: 100%|████████████████████████████████████████████████| 304/304 [00:54<00:00,  5.61it/s]\n",
            "Validation: 100%|███████████████████████████████████████████████████| 76/76 [00:11<00:00,  6.82it/s]\n"
          ]
        },
        {
          "name": "stdout",
          "output_type": "stream",
          "text": [
            "Epoch 28/50, Train Loss: 0.1536, Validation Loss: 0.1012, Validation Accuracy: 96.60%\n"
          ]
        },
        {
          "name": "stderr",
          "output_type": "stream",
          "text": [
            "Epoch 29/50: 100%|████████████████████████████████████████████████| 304/304 [00:52<00:00,  5.75it/s]\n",
            "Validation: 100%|███████████████████████████████████████████████████| 76/76 [00:13<00:00,  5.72it/s]\n"
          ]
        },
        {
          "name": "stdout",
          "output_type": "stream",
          "text": [
            "Epoch 29/50, Train Loss: 0.1579, Validation Loss: 0.1061, Validation Accuracy: 96.26%\n"
          ]
        },
        {
          "name": "stderr",
          "output_type": "stream",
          "text": [
            "Epoch 30/50: 100%|████████████████████████████████████████████████| 304/304 [00:52<00:00,  5.77it/s]\n",
            "Validation: 100%|███████████████████████████████████████████████████| 76/76 [00:11<00:00,  6.65it/s]\n"
          ]
        },
        {
          "name": "stdout",
          "output_type": "stream",
          "text": [
            "Epoch 30/50, Train Loss: 0.1599, Validation Loss: 0.1003, Validation Accuracy: 96.48%\n"
          ]
        },
        {
          "name": "stderr",
          "output_type": "stream",
          "text": [
            "Epoch 31/50: 100%|████████████████████████████████████████████████| 304/304 [00:53<00:00,  5.71it/s]\n",
            "Validation: 100%|███████████████████████████████████████████████████| 76/76 [00:11<00:00,  6.45it/s]\n"
          ]
        },
        {
          "name": "stdout",
          "output_type": "stream",
          "text": [
            "Epoch 00031: reducing learning rate of group 0 to 1.0000e-07.\n",
            "Epoch 31/50, Train Loss: 0.1555, Validation Loss: 0.1070, Validation Accuracy: 96.17%\n"
          ]
        },
        {
          "name": "stderr",
          "output_type": "stream",
          "text": [
            "Epoch 32/50: 100%|████████████████████████████████████████████████| 304/304 [00:52<00:00,  5.75it/s]\n",
            "Validation: 100%|███████████████████████████████████████████████████| 76/76 [00:11<00:00,  6.37it/s]\n"
          ]
        },
        {
          "name": "stdout",
          "output_type": "stream",
          "text": [
            "Epoch 32/50, Train Loss: 0.1555, Validation Loss: 0.0939, Validation Accuracy: 96.65%\n"
          ]
        },
        {
          "name": "stderr",
          "output_type": "stream",
          "text": [
            "Epoch 33/50: 100%|████████████████████████████████████████████████| 304/304 [00:54<00:00,  5.57it/s]\n",
            "Validation: 100%|███████████████████████████████████████████████████| 76/76 [00:12<00:00,  6.15it/s]\n"
          ]
        },
        {
          "name": "stdout",
          "output_type": "stream",
          "text": [
            "Epoch 33/50, Train Loss: 0.1563, Validation Loss: 0.1080, Validation Accuracy: 96.34%\n"
          ]
        },
        {
          "name": "stderr",
          "output_type": "stream",
          "text": [
            "Epoch 34/50: 100%|████████████████████████████████████████████████| 304/304 [00:54<00:00,  5.54it/s]\n",
            "Validation: 100%|███████████████████████████████████████████████████| 76/76 [00:12<00:00,  6.28it/s]\n"
          ]
        },
        {
          "name": "stdout",
          "output_type": "stream",
          "text": [
            "Epoch 34/50, Train Loss: 0.1599, Validation Loss: 0.1057, Validation Accuracy: 96.40%\n"
          ]
        },
        {
          "name": "stderr",
          "output_type": "stream",
          "text": [
            "Epoch 35/50: 100%|████████████████████████████████████████████████| 304/304 [00:55<00:00,  5.50it/s]\n",
            "Validation: 100%|███████████████████████████████████████████████████| 76/76 [00:11<00:00,  6.39it/s]\n"
          ]
        },
        {
          "name": "stdout",
          "output_type": "stream",
          "text": [
            "Epoch 35/50, Train Loss: 0.1571, Validation Loss: 0.1028, Validation Accuracy: 96.23%\n"
          ]
        },
        {
          "name": "stderr",
          "output_type": "stream",
          "text": [
            "Epoch 36/50: 100%|████████████████████████████████████████████████| 304/304 [00:53<00:00,  5.68it/s]\n",
            "Validation: 100%|███████████████████████████████████████████████████| 76/76 [00:11<00:00,  6.52it/s]\n"
          ]
        },
        {
          "name": "stdout",
          "output_type": "stream",
          "text": [
            "Epoch 36/50, Train Loss: 0.1599, Validation Loss: 0.1051, Validation Accuracy: 96.32%\n"
          ]
        },
        {
          "name": "stderr",
          "output_type": "stream",
          "text": [
            "Epoch 37/50: 100%|████████████████████████████████████████████████| 304/304 [00:53<00:00,  5.72it/s]\n",
            "Validation: 100%|███████████████████████████████████████████████████| 76/76 [00:11<00:00,  6.58it/s]\n"
          ]
        },
        {
          "name": "stdout",
          "output_type": "stream",
          "text": [
            "Epoch 00037: reducing learning rate of group 0 to 1.0000e-08.\n",
            "Epoch 37/50, Train Loss: 0.1566, Validation Loss: 0.1029, Validation Accuracy: 96.34%\n"
          ]
        },
        {
          "name": "stderr",
          "output_type": "stream",
          "text": [
            "Epoch 38/50: 100%|████████████████████████████████████████████████| 304/304 [00:52<00:00,  5.80it/s]\n",
            "Validation: 100%|███████████████████████████████████████████████████| 76/76 [00:11<00:00,  6.66it/s]\n"
          ]
        },
        {
          "name": "stdout",
          "output_type": "stream",
          "text": [
            "Epoch 38/50, Train Loss: 0.1552, Validation Loss: 0.0967, Validation Accuracy: 96.56%\n"
          ]
        },
        {
          "name": "stderr",
          "output_type": "stream",
          "text": [
            "Epoch 39/50: 100%|████████████████████████████████████████████████| 304/304 [00:51<00:00,  5.85it/s]\n",
            "Validation: 100%|███████████████████████████████████████████████████| 76/76 [00:11<00:00,  6.75it/s]\n"
          ]
        },
        {
          "name": "stdout",
          "output_type": "stream",
          "text": [
            "Epoch 39/50, Train Loss: 0.1589, Validation Loss: 0.1041, Validation Accuracy: 96.19%\n"
          ]
        },
        {
          "name": "stderr",
          "output_type": "stream",
          "text": [
            "Epoch 40/50: 100%|████████████████████████████████████████████████| 304/304 [00:53<00:00,  5.64it/s]\n",
            "Validation: 100%|███████████████████████████████████████████████████| 76/76 [00:11<00:00,  6.60it/s]\n"
          ]
        },
        {
          "name": "stdout",
          "output_type": "stream",
          "text": [
            "Epoch 40/50, Train Loss: 0.1538, Validation Loss: 0.1117, Validation Accuracy: 95.82%\n"
          ]
        },
        {
          "name": "stderr",
          "output_type": "stream",
          "text": [
            "Epoch 41/50: 100%|████████████████████████████████████████████████| 304/304 [00:52<00:00,  5.81it/s]\n",
            "Validation: 100%|███████████████████████████████████████████████████| 76/76 [00:11<00:00,  6.44it/s]\n"
          ]
        },
        {
          "name": "stdout",
          "output_type": "stream",
          "text": [
            "Epoch 41/50, Train Loss: 0.1560, Validation Loss: 0.1062, Validation Accuracy: 96.23%\n"
          ]
        },
        {
          "name": "stderr",
          "output_type": "stream",
          "text": [
            "Epoch 42/50: 100%|████████████████████████████████████████████████| 304/304 [00:53<00:00,  5.73it/s]\n",
            "Validation: 100%|███████████████████████████████████████████████████| 76/76 [00:11<00:00,  6.47it/s]\n"
          ]
        },
        {
          "name": "stdout",
          "output_type": "stream",
          "text": [
            "Epoch 42/50, Train Loss: 0.1585, Validation Loss: 0.1082, Validation Accuracy: 96.07%\n"
          ]
        },
        {
          "name": "stderr",
          "output_type": "stream",
          "text": [
            "Epoch 43/50: 100%|████████████████████████████████████████████████| 304/304 [00:52<00:00,  5.76it/s]\n",
            "Validation: 100%|███████████████████████████████████████████████████| 76/76 [00:12<00:00,  6.31it/s]\n"
          ]
        },
        {
          "name": "stdout",
          "output_type": "stream",
          "text": [
            "Epoch 43/50, Train Loss: 0.1578, Validation Loss: 0.1026, Validation Accuracy: 96.54%\n"
          ]
        },
        {
          "name": "stderr",
          "output_type": "stream",
          "text": [
            "Epoch 44/50: 100%|████████████████████████████████████████████████| 304/304 [00:53<00:00,  5.73it/s]\n",
            "Validation: 100%|███████████████████████████████████████████████████| 76/76 [00:11<00:00,  6.37it/s]\n"
          ]
        },
        {
          "name": "stdout",
          "output_type": "stream",
          "text": [
            "Epoch 44/50, Train Loss: 0.1601, Validation Loss: 0.1024, Validation Accuracy: 96.17%\n"
          ]
        },
        {
          "name": "stderr",
          "output_type": "stream",
          "text": [
            "Epoch 45/50: 100%|████████████████████████████████████████████████| 304/304 [00:53<00:00,  5.71it/s]\n",
            "Validation: 100%|███████████████████████████████████████████████████| 76/76 [00:11<00:00,  6.49it/s]\n"
          ]
        },
        {
          "name": "stdout",
          "output_type": "stream",
          "text": [
            "Epoch 45/50, Train Loss: 0.1570, Validation Loss: 0.0998, Validation Accuracy: 96.32%\n"
          ]
        },
        {
          "name": "stderr",
          "output_type": "stream",
          "text": [
            "Epoch 46/50: 100%|████████████████████████████████████████████████| 304/304 [00:54<00:00,  5.57it/s]\n",
            "Validation: 100%|███████████████████████████████████████████████████| 76/76 [00:11<00:00,  6.50it/s]\n"
          ]
        },
        {
          "name": "stdout",
          "output_type": "stream",
          "text": [
            "Epoch 46/50, Train Loss: 0.1620, Validation Loss: 0.1014, Validation Accuracy: 96.67%\n"
          ]
        },
        {
          "name": "stderr",
          "output_type": "stream",
          "text": [
            "Epoch 47/50: 100%|████████████████████████████████████████████████| 304/304 [00:52<00:00,  5.74it/s]\n",
            "Validation: 100%|███████████████████████████████████████████████████| 76/76 [00:11<00:00,  6.39it/s]\n"
          ]
        },
        {
          "name": "stdout",
          "output_type": "stream",
          "text": [
            "Epoch 47/50, Train Loss: 0.1545, Validation Loss: 0.1078, Validation Accuracy: 96.07%\n"
          ]
        },
        {
          "name": "stderr",
          "output_type": "stream",
          "text": [
            "Epoch 48/50: 100%|████████████████████████████████████████████████| 304/304 [00:53<00:00,  5.71it/s]\n",
            "Validation: 100%|███████████████████████████████████████████████████| 76/76 [00:11<00:00,  6.53it/s]\n"
          ]
        },
        {
          "name": "stdout",
          "output_type": "stream",
          "text": [
            "Epoch 48/50, Train Loss: 0.1578, Validation Loss: 0.1051, Validation Accuracy: 96.15%\n"
          ]
        },
        {
          "name": "stderr",
          "output_type": "stream",
          "text": [
            "Epoch 49/50: 100%|████████████████████████████████████████████████| 304/304 [00:53<00:00,  5.74it/s]\n",
            "Validation: 100%|███████████████████████████████████████████████████| 76/76 [00:11<00:00,  6.53it/s]\n"
          ]
        },
        {
          "name": "stdout",
          "output_type": "stream",
          "text": [
            "Epoch 49/50, Train Loss: 0.1567, Validation Loss: 0.1047, Validation Accuracy: 96.32%\n"
          ]
        },
        {
          "name": "stderr",
          "output_type": "stream",
          "text": [
            "Epoch 50/50: 100%|████████████████████████████████████████████████| 304/304 [00:52<00:00,  5.75it/s]\n",
            "Validation: 100%|███████████████████████████████████████████████████| 76/76 [00:11<00:00,  6.87it/s]"
          ]
        },
        {
          "name": "stdout",
          "output_type": "stream",
          "text": [
            "Epoch 50/50, Train Loss: 0.1597, Validation Loss: 0.1084, Validation Accuracy: 96.28%\n"
          ]
        },
        {
          "name": "stderr",
          "output_type": "stream",
          "text": [
            "\n"
          ]
        }
      ],
      "source": [
        "best_val_loss = 1e7\n",
        "train_losses = list()\n",
        "val_losses = list()\n",
        "\n",
        "for epoch in range(EPOCHS):\n",
        "  # Train\n",
        "  vgg16_model.train()\n",
        "  train_loss = 0.0\n",
        "  for batch in tqdm(train_dl, desc=f\"Epoch {epoch + 1}/{EPOCHS}\", ncols=100):\n",
        "    inputs, labels = batch\n",
        "    inputs = inputs.to(device)\n",
        "    labels = labels.to(device)\n",
        "    optimizer.zero_grad()\n",
        "    outputs = vgg16_model(inputs)\n",
        "    loss = criterion(outputs, labels)\n",
        "    loss.backward()\n",
        "    optimizer.step()\n",
        "    train_loss += loss.item()\n",
        "\n",
        "  # Validate\n",
        "  vgg16_model.eval()\n",
        "  val_loss = 0.0\n",
        "  correct_predictions = 0\n",
        "  total_predictions = 0\n",
        "  with torch.no_grad():\n",
        "    for batch in tqdm(val_dl, desc=\"Validation\", ncols=100):\n",
        "      inputs, labels = batch\n",
        "      inputs = inputs.to(device)\n",
        "      labels = labels.to(device)\n",
        "      outputs = vgg16_model(inputs)\n",
        "      loss = criterion(outputs, labels)\n",
        "      val_loss += loss.item()\n",
        "      _, predicted = torch.max(outputs, 1)\n",
        "      total_predictions += labels.size(0)\n",
        "      correct_predictions += (predicted == labels).sum().item()\n",
        "  lr_scheduler.step(val_loss)\n",
        "\n",
        "  if val_loss < best_val_loss:\n",
        "    best_val_loss = val_loss\n",
        "    torch.save(vgg16_model.state_dict(), \"/content/checkpoints/vgg16-smallnorb-nopretrain.pt\")\n",
        "\n",
        "  train_losses.append(train_loss / len(train_dl))\n",
        "  val_losses.append(val_loss / len(val_dl))\n",
        "\n",
        "  accuracy = 100 * correct_predictions / total_predictions\n",
        "  print(f\"Epoch {epoch + 1}/{EPOCHS}, Train Loss: {train_loss / len(train_dl):.4f}, Validation Loss: {val_loss / len(val_dl):.4f}, Validation Accuracy: {accuracy:.2f}%\")\n"
      ]
    },
    {
      "cell_type": "code",
      "execution_count": 22,
      "metadata": {
        "colab": {
          "base_uri": "https://localhost:8080/",
          "height": 632
        },
        "id": "MwK9nyht87GP",
        "outputId": "2a871064-38e0-407d-a708-bf57b2b844cf"
      },
      "outputs": [
        {
          "data": {
            "text/plain": [
              "Text(0.5, 1.0, 'VGG16 Training on SmallNORB')"
            ]
          },
          "execution_count": 22,
          "metadata": {},
          "output_type": "execute_result"
        },
        {
          "data": {
            "image/png": "[encoded data removed]",
            "text/plain": [
              "<Figure size 1200x600 with 1 Axes>"
            ]
          },
          "metadata": {},
          "output_type": "display_data"
        }
      ],
      "source": [
        "# Plot training results\n",
        "plt.figure(figsize=(8,4), dpi=150)\n",
        "plt.plot(train_losses, color=(78 / 255, 24 / 255, 111 / 255), label=\"Training\")\n",
        "plt.plot(val_losses, color=(107 / 255, 140 / 255, 191 / 255), label=\"Validation\")\n",
        "plt.legend(loc=\"best\")\n",
        "plt.xlabel(\"Epochs\")\n",
        "plt.ylabel(\"Loss\")\n",
        "plt.title(\"VGG16 Training on SmallNORB\")"
      ]
    },
    {
      "cell_type": "code",
      "execution_count": 23,
      "metadata": {
        "colab": {
          "base_uri": "https://localhost:8080/"
        },
        "id": "pWOVyxO6AwPJ",
        "outputId": "8c0c744b-f62d-4592-fcc0-1ef8fc087c7e"
      },
      "outputs": [
        {
          "name": "stderr",
          "output_type": "stream",
          "text": [
            "Testing: 100%|████████████████████████████████████████████████████| 380/380 [02:25<00:00,  2.60it/s]"
          ]
        },
        {
          "name": "stdout",
          "output_type": "stream",
          "text": [
            "\n",
            "Test set accuracy = 68.3457%\n"
          ]
        },
        {
          "name": "stderr",
          "output_type": "stream",
          "text": [
            "\n"
          ]
        }
      ],
      "source": [
        "# Predict on Test set\n",
        "vgg16_model.eval()\n",
        "test_loss = 0.0\n",
        "correct_predictions = 0\n",
        "total_predictions = 0\n",
        "with torch.no_grad():\n",
        "    for batch in tqdm(test_dl, desc=\"Testing\", ncols=100):\n",
        "      inputs, labels = batch\n",
        "      inputs = inputs.to(device)\n",
        "      labels = labels.to(device)\n",
        "      outputs = vgg16_model(inputs)\n",
        "      loss = criterion(outputs, labels)\n",
        "      test_loss += loss.item()\n",
        "      _, predicted = torch.max(outputs, 1)\n",
        "      total_predictions += labels.size(0)\n",
        "      correct_predictions += (predicted == labels).sum().item()\n",
        "\n",
        "print(f\"\\nTest set accuracy = {(100 * correct_predictions / total_predictions):.4f}%\")"
      ]
    },
    {
      "cell_type": "code",
      "execution_count": null,
      "metadata": {
        "id": "SNuQNniR4-I1"
      },
      "outputs": [],
      "source": []
    }
  ],
  "metadata": {
    "accelerator": "GPU",
    "colab": {
      "gpuType": "T4",
      "provenance": []
    },
    "kernelspec": {
      "display_name": "Python 3",
      "name": "python3"
    },
    "language_info": {
      "name": "python"
    }
  },
  "nbformat": 4,
  "nbformat_minor": 0
}
